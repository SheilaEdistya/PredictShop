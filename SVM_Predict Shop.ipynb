{
  "nbformat": 4,
  "nbformat_minor": 0,
  "metadata": {
    "colab": {
      "provenance": []
    },
    "kernelspec": {
      "name": "python3",
      "display_name": "Python 3"
    },
    "language_info": {
      "name": "python"
    }
  },
  "cells": [
    {
      "cell_type": "markdown",
      "source": [
        "# Persiapan Data"
      ],
      "metadata": {
        "id": "8nlr4xJNwzoI"
      }
    },
    {
      "cell_type": "code",
      "execution_count": null,
      "metadata": {
        "colab": {
          "base_uri": "https://localhost:8080/",
          "height": 226
        },
        "id": "zcl3txi9uOji",
        "outputId": "67157ca9-9ba0-4c79-ad13-9fec64ebf615"
      },
      "outputs": [
        {
          "output_type": "execute_result",
          "data": {
            "text/plain": [
              "   Administrative  Administrative_Duration  Informational  \\\n",
              "0               0                      0.0              0   \n",
              "1               0                      0.0              0   \n",
              "2               0                      0.0              0   \n",
              "3               0                      0.0              0   \n",
              "4               0                      0.0              0   \n",
              "\n",
              "   Informational_Duration  ProductRelated  ProductRelated_Duration  \\\n",
              "0                     0.0               1                 0.000000   \n",
              "1                     0.0               2                64.000000   \n",
              "2                     0.0               1                 0.000000   \n",
              "3                     0.0               2                 2.666667   \n",
              "4                     0.0              10               627.500000   \n",
              "\n",
              "   BounceRates  ExitRates  PageValues  SpecialDay Month  OperatingSystems  \\\n",
              "0         0.20       0.20         0.0         0.0   Feb                 1   \n",
              "1         0.00       0.10         0.0         0.0   Feb                 2   \n",
              "2         0.20       0.20         0.0         0.0   Feb                 4   \n",
              "3         0.05       0.14         0.0         0.0   Feb                 3   \n",
              "4         0.02       0.05         0.0         0.0   Feb                 3   \n",
              "\n",
              "   Browser  Region  TrafficType        VisitorType  Weekend  Revenue  \n",
              "0        1       1            1  Returning_Visitor    False    False  \n",
              "1        2       1            2  Returning_Visitor    False    False  \n",
              "2        1       9            3  Returning_Visitor    False    False  \n",
              "3        2       2            4  Returning_Visitor    False    False  \n",
              "4        3       1            4  Returning_Visitor     True    False  "
            ],
            "text/html": [
              "\n",
              "  <div id=\"df-4c2d35c0-6445-4306-95d3-351e1d34f585\" class=\"colab-df-container\">\n",
              "    <div>\n",
              "<style scoped>\n",
              "    .dataframe tbody tr th:only-of-type {\n",
              "        vertical-align: middle;\n",
              "    }\n",
              "\n",
              "    .dataframe tbody tr th {\n",
              "        vertical-align: top;\n",
              "    }\n",
              "\n",
              "    .dataframe thead th {\n",
              "        text-align: right;\n",
              "    }\n",
              "</style>\n",
              "<table border=\"1\" class=\"dataframe\">\n",
              "  <thead>\n",
              "    <tr style=\"text-align: right;\">\n",
              "      <th></th>\n",
              "      <th>Administrative</th>\n",
              "      <th>Administrative_Duration</th>\n",
              "      <th>Informational</th>\n",
              "      <th>Informational_Duration</th>\n",
              "      <th>ProductRelated</th>\n",
              "      <th>ProductRelated_Duration</th>\n",
              "      <th>BounceRates</th>\n",
              "      <th>ExitRates</th>\n",
              "      <th>PageValues</th>\n",
              "      <th>SpecialDay</th>\n",
              "      <th>Month</th>\n",
              "      <th>OperatingSystems</th>\n",
              "      <th>Browser</th>\n",
              "      <th>Region</th>\n",
              "      <th>TrafficType</th>\n",
              "      <th>VisitorType</th>\n",
              "      <th>Weekend</th>\n",
              "      <th>Revenue</th>\n",
              "    </tr>\n",
              "  </thead>\n",
              "  <tbody>\n",
              "    <tr>\n",
              "      <th>0</th>\n",
              "      <td>0</td>\n",
              "      <td>0.0</td>\n",
              "      <td>0</td>\n",
              "      <td>0.0</td>\n",
              "      <td>1</td>\n",
              "      <td>0.000000</td>\n",
              "      <td>0.20</td>\n",
              "      <td>0.20</td>\n",
              "      <td>0.0</td>\n",
              "      <td>0.0</td>\n",
              "      <td>Feb</td>\n",
              "      <td>1</td>\n",
              "      <td>1</td>\n",
              "      <td>1</td>\n",
              "      <td>1</td>\n",
              "      <td>Returning_Visitor</td>\n",
              "      <td>False</td>\n",
              "      <td>False</td>\n",
              "    </tr>\n",
              "    <tr>\n",
              "      <th>1</th>\n",
              "      <td>0</td>\n",
              "      <td>0.0</td>\n",
              "      <td>0</td>\n",
              "      <td>0.0</td>\n",
              "      <td>2</td>\n",
              "      <td>64.000000</td>\n",
              "      <td>0.00</td>\n",
              "      <td>0.10</td>\n",
              "      <td>0.0</td>\n",
              "      <td>0.0</td>\n",
              "      <td>Feb</td>\n",
              "      <td>2</td>\n",
              "      <td>2</td>\n",
              "      <td>1</td>\n",
              "      <td>2</td>\n",
              "      <td>Returning_Visitor</td>\n",
              "      <td>False</td>\n",
              "      <td>False</td>\n",
              "    </tr>\n",
              "    <tr>\n",
              "      <th>2</th>\n",
              "      <td>0</td>\n",
              "      <td>0.0</td>\n",
              "      <td>0</td>\n",
              "      <td>0.0</td>\n",
              "      <td>1</td>\n",
              "      <td>0.000000</td>\n",
              "      <td>0.20</td>\n",
              "      <td>0.20</td>\n",
              "      <td>0.0</td>\n",
              "      <td>0.0</td>\n",
              "      <td>Feb</td>\n",
              "      <td>4</td>\n",
              "      <td>1</td>\n",
              "      <td>9</td>\n",
              "      <td>3</td>\n",
              "      <td>Returning_Visitor</td>\n",
              "      <td>False</td>\n",
              "      <td>False</td>\n",
              "    </tr>\n",
              "    <tr>\n",
              "      <th>3</th>\n",
              "      <td>0</td>\n",
              "      <td>0.0</td>\n",
              "      <td>0</td>\n",
              "      <td>0.0</td>\n",
              "      <td>2</td>\n",
              "      <td>2.666667</td>\n",
              "      <td>0.05</td>\n",
              "      <td>0.14</td>\n",
              "      <td>0.0</td>\n",
              "      <td>0.0</td>\n",
              "      <td>Feb</td>\n",
              "      <td>3</td>\n",
              "      <td>2</td>\n",
              "      <td>2</td>\n",
              "      <td>4</td>\n",
              "      <td>Returning_Visitor</td>\n",
              "      <td>False</td>\n",
              "      <td>False</td>\n",
              "    </tr>\n",
              "    <tr>\n",
              "      <th>4</th>\n",
              "      <td>0</td>\n",
              "      <td>0.0</td>\n",
              "      <td>0</td>\n",
              "      <td>0.0</td>\n",
              "      <td>10</td>\n",
              "      <td>627.500000</td>\n",
              "      <td>0.02</td>\n",
              "      <td>0.05</td>\n",
              "      <td>0.0</td>\n",
              "      <td>0.0</td>\n",
              "      <td>Feb</td>\n",
              "      <td>3</td>\n",
              "      <td>3</td>\n",
              "      <td>1</td>\n",
              "      <td>4</td>\n",
              "      <td>Returning_Visitor</td>\n",
              "      <td>True</td>\n",
              "      <td>False</td>\n",
              "    </tr>\n",
              "  </tbody>\n",
              "</table>\n",
              "</div>\n",
              "    <div class=\"colab-df-buttons\">\n",
              "\n",
              "  <div class=\"colab-df-container\">\n",
              "    <button class=\"colab-df-convert\" onclick=\"convertToInteractive('df-4c2d35c0-6445-4306-95d3-351e1d34f585')\"\n",
              "            title=\"Convert this dataframe to an interactive table.\"\n",
              "            style=\"display:none;\">\n",
              "\n",
              "  <svg xmlns=\"http://www.w3.org/2000/svg\" height=\"24px\" viewBox=\"0 -960 960 960\">\n",
              "    <path d=\"M120-120v-720h720v720H120Zm60-500h600v-160H180v160Zm220 220h160v-160H400v160Zm0 220h160v-160H400v160ZM180-400h160v-160H180v160Zm440 0h160v-160H620v160ZM180-180h160v-160H180v160Zm440 0h160v-160H620v160Z\"/>\n",
              "  </svg>\n",
              "    </button>\n",
              "\n",
              "  <style>\n",
              "    .colab-df-container {\n",
              "      display:flex;\n",
              "      gap: 12px;\n",
              "    }\n",
              "\n",
              "    .colab-df-convert {\n",
              "      background-color: #E8F0FE;\n",
              "      border: none;\n",
              "      border-radius: 50%;\n",
              "      cursor: pointer;\n",
              "      display: none;\n",
              "      fill: #1967D2;\n",
              "      height: 32px;\n",
              "      padding: 0 0 0 0;\n",
              "      width: 32px;\n",
              "    }\n",
              "\n",
              "    .colab-df-convert:hover {\n",
              "      background-color: #E2EBFA;\n",
              "      box-shadow: 0px 1px 2px rgba(60, 64, 67, 0.3), 0px 1px 3px 1px rgba(60, 64, 67, 0.15);\n",
              "      fill: #174EA6;\n",
              "    }\n",
              "\n",
              "    .colab-df-buttons div {\n",
              "      margin-bottom: 4px;\n",
              "    }\n",
              "\n",
              "    [theme=dark] .colab-df-convert {\n",
              "      background-color: #3B4455;\n",
              "      fill: #D2E3FC;\n",
              "    }\n",
              "\n",
              "    [theme=dark] .colab-df-convert:hover {\n",
              "      background-color: #434B5C;\n",
              "      box-shadow: 0px 1px 3px 1px rgba(0, 0, 0, 0.15);\n",
              "      filter: drop-shadow(0px 1px 2px rgba(0, 0, 0, 0.3));\n",
              "      fill: #FFFFFF;\n",
              "    }\n",
              "  </style>\n",
              "\n",
              "    <script>\n",
              "      const buttonEl =\n",
              "        document.querySelector('#df-4c2d35c0-6445-4306-95d3-351e1d34f585 button.colab-df-convert');\n",
              "      buttonEl.style.display =\n",
              "        google.colab.kernel.accessAllowed ? 'block' : 'none';\n",
              "\n",
              "      async function convertToInteractive(key) {\n",
              "        const element = document.querySelector('#df-4c2d35c0-6445-4306-95d3-351e1d34f585');\n",
              "        const dataTable =\n",
              "          await google.colab.kernel.invokeFunction('convertToInteractive',\n",
              "                                                    [key], {});\n",
              "        if (!dataTable) return;\n",
              "\n",
              "        const docLinkHtml = 'Like what you see? Visit the ' +\n",
              "          '<a target=\"_blank\" href=https://colab.research.google.com/notebooks/data_table.ipynb>data table notebook</a>'\n",
              "          + ' to learn more about interactive tables.';\n",
              "        element.innerHTML = '';\n",
              "        dataTable['output_type'] = 'display_data';\n",
              "        await google.colab.output.renderOutput(dataTable, element);\n",
              "        const docLink = document.createElement('div');\n",
              "        docLink.innerHTML = docLinkHtml;\n",
              "        element.appendChild(docLink);\n",
              "      }\n",
              "    </script>\n",
              "  </div>\n",
              "\n",
              "\n",
              "    <div id=\"df-e98f37b4-1fec-4252-9666-4fc30522750e\">\n",
              "      <button class=\"colab-df-quickchart\" onclick=\"quickchart('df-e98f37b4-1fec-4252-9666-4fc30522750e')\"\n",
              "                title=\"Suggest charts\"\n",
              "                style=\"display:none;\">\n",
              "\n",
              "<svg xmlns=\"http://www.w3.org/2000/svg\" height=\"24px\"viewBox=\"0 0 24 24\"\n",
              "     width=\"24px\">\n",
              "    <g>\n",
              "        <path d=\"M19 3H5c-1.1 0-2 .9-2 2v14c0 1.1.9 2 2 2h14c1.1 0 2-.9 2-2V5c0-1.1-.9-2-2-2zM9 17H7v-7h2v7zm4 0h-2V7h2v10zm4 0h-2v-4h2v4z\"/>\n",
              "    </g>\n",
              "</svg>\n",
              "      </button>\n",
              "\n",
              "<style>\n",
              "  .colab-df-quickchart {\n",
              "      --bg-color: #E8F0FE;\n",
              "      --fill-color: #1967D2;\n",
              "      --hover-bg-color: #E2EBFA;\n",
              "      --hover-fill-color: #174EA6;\n",
              "      --disabled-fill-color: #AAA;\n",
              "      --disabled-bg-color: #DDD;\n",
              "  }\n",
              "\n",
              "  [theme=dark] .colab-df-quickchart {\n",
              "      --bg-color: #3B4455;\n",
              "      --fill-color: #D2E3FC;\n",
              "      --hover-bg-color: #434B5C;\n",
              "      --hover-fill-color: #FFFFFF;\n",
              "      --disabled-bg-color: #3B4455;\n",
              "      --disabled-fill-color: #666;\n",
              "  }\n",
              "\n",
              "  .colab-df-quickchart {\n",
              "    background-color: var(--bg-color);\n",
              "    border: none;\n",
              "    border-radius: 50%;\n",
              "    cursor: pointer;\n",
              "    display: none;\n",
              "    fill: var(--fill-color);\n",
              "    height: 32px;\n",
              "    padding: 0;\n",
              "    width: 32px;\n",
              "  }\n",
              "\n",
              "  .colab-df-quickchart:hover {\n",
              "    background-color: var(--hover-bg-color);\n",
              "    box-shadow: 0 1px 2px rgba(60, 64, 67, 0.3), 0 1px 3px 1px rgba(60, 64, 67, 0.15);\n",
              "    fill: var(--button-hover-fill-color);\n",
              "  }\n",
              "\n",
              "  .colab-df-quickchart-complete:disabled,\n",
              "  .colab-df-quickchart-complete:disabled:hover {\n",
              "    background-color: var(--disabled-bg-color);\n",
              "    fill: var(--disabled-fill-color);\n",
              "    box-shadow: none;\n",
              "  }\n",
              "\n",
              "  .colab-df-spinner {\n",
              "    border: 2px solid var(--fill-color);\n",
              "    border-color: transparent;\n",
              "    border-bottom-color: var(--fill-color);\n",
              "    animation:\n",
              "      spin 1s steps(1) infinite;\n",
              "  }\n",
              "\n",
              "  @keyframes spin {\n",
              "    0% {\n",
              "      border-color: transparent;\n",
              "      border-bottom-color: var(--fill-color);\n",
              "      border-left-color: var(--fill-color);\n",
              "    }\n",
              "    20% {\n",
              "      border-color: transparent;\n",
              "      border-left-color: var(--fill-color);\n",
              "      border-top-color: var(--fill-color);\n",
              "    }\n",
              "    30% {\n",
              "      border-color: transparent;\n",
              "      border-left-color: var(--fill-color);\n",
              "      border-top-color: var(--fill-color);\n",
              "      border-right-color: var(--fill-color);\n",
              "    }\n",
              "    40% {\n",
              "      border-color: transparent;\n",
              "      border-right-color: var(--fill-color);\n",
              "      border-top-color: var(--fill-color);\n",
              "    }\n",
              "    60% {\n",
              "      border-color: transparent;\n",
              "      border-right-color: var(--fill-color);\n",
              "    }\n",
              "    80% {\n",
              "      border-color: transparent;\n",
              "      border-right-color: var(--fill-color);\n",
              "      border-bottom-color: var(--fill-color);\n",
              "    }\n",
              "    90% {\n",
              "      border-color: transparent;\n",
              "      border-bottom-color: var(--fill-color);\n",
              "    }\n",
              "  }\n",
              "</style>\n",
              "\n",
              "      <script>\n",
              "        async function quickchart(key) {\n",
              "          const quickchartButtonEl =\n",
              "            document.querySelector('#' + key + ' button');\n",
              "          quickchartButtonEl.disabled = true;  // To prevent multiple clicks.\n",
              "          quickchartButtonEl.classList.add('colab-df-spinner');\n",
              "          try {\n",
              "            const charts = await google.colab.kernel.invokeFunction(\n",
              "                'suggestCharts', [key], {});\n",
              "          } catch (error) {\n",
              "            console.error('Error during call to suggestCharts:', error);\n",
              "          }\n",
              "          quickchartButtonEl.classList.remove('colab-df-spinner');\n",
              "          quickchartButtonEl.classList.add('colab-df-quickchart-complete');\n",
              "        }\n",
              "        (() => {\n",
              "          let quickchartButtonEl =\n",
              "            document.querySelector('#df-e98f37b4-1fec-4252-9666-4fc30522750e button');\n",
              "          quickchartButtonEl.style.display =\n",
              "            google.colab.kernel.accessAllowed ? 'block' : 'none';\n",
              "        })();\n",
              "      </script>\n",
              "    </div>\n",
              "\n",
              "    </div>\n",
              "  </div>\n"
            ],
            "application/vnd.google.colaboratory.intrinsic+json": {
              "type": "dataframe",
              "variable_name": "df",
              "summary": "{\n  \"name\": \"df\",\n  \"rows\": 12330,\n  \"fields\": [\n    {\n      \"column\": \"Administrative\",\n      \"properties\": {\n        \"dtype\": \"number\",\n        \"std\": 3,\n        \"min\": 0,\n        \"max\": 27,\n        \"num_unique_values\": 27,\n        \"samples\": [\n          5,\n          11,\n          9\n        ],\n        \"semantic_type\": \"\",\n        \"description\": \"\"\n      }\n    },\n    {\n      \"column\": \"Administrative_Duration\",\n      \"properties\": {\n        \"dtype\": \"number\",\n        \"std\": 176.77910747048236,\n        \"min\": 0.0,\n        \"max\": 3398.75,\n        \"num_unique_values\": 3335,\n        \"samples\": [\n          93.6,\n          63.08333333,\n          351.0833333\n        ],\n        \"semantic_type\": \"\",\n        \"description\": \"\"\n      }\n    },\n    {\n      \"column\": \"Informational\",\n      \"properties\": {\n        \"dtype\": \"number\",\n        \"std\": 1,\n        \"min\": 0,\n        \"max\": 24,\n        \"num_unique_values\": 17,\n        \"samples\": [\n          0,\n          1,\n          5\n        ],\n        \"semantic_type\": \"\",\n        \"description\": \"\"\n      }\n    },\n    {\n      \"column\": \"Informational_Duration\",\n      \"properties\": {\n        \"dtype\": \"number\",\n        \"std\": 140.74929442219084,\n        \"min\": 0.0,\n        \"max\": 2549.375,\n        \"num_unique_values\": 1258,\n        \"samples\": [\n          793.8,\n          50.0,\n          57.0\n        ],\n        \"semantic_type\": \"\",\n        \"description\": \"\"\n      }\n    },\n    {\n      \"column\": \"ProductRelated\",\n      \"properties\": {\n        \"dtype\": \"number\",\n        \"std\": 44,\n        \"min\": 0,\n        \"max\": 705,\n        \"num_unique_values\": 311,\n        \"samples\": [\n          330,\n          23,\n          54\n        ],\n        \"semantic_type\": \"\",\n        \"description\": \"\"\n      }\n    },\n    {\n      \"column\": \"ProductRelated_Duration\",\n      \"properties\": {\n        \"dtype\": \"number\",\n        \"std\": 1913.6692878719944,\n        \"min\": 0.0,\n        \"max\": 63973.52223,\n        \"num_unique_values\": 9551,\n        \"samples\": [\n          225.68,\n          232.6666667,\n          2834.280117\n        ],\n        \"semantic_type\": \"\",\n        \"description\": \"\"\n      }\n    },\n    {\n      \"column\": \"BounceRates\",\n      \"properties\": {\n        \"dtype\": \"number\",\n        \"std\": 0.04848832180626314,\n        \"min\": 0.0,\n        \"max\": 0.2,\n        \"num_unique_values\": 1872,\n        \"samples\": [\n          0.004778942,\n          0.010793651,\n          0.005073996\n        ],\n        \"semantic_type\": \"\",\n        \"description\": \"\"\n      }\n    },\n    {\n      \"column\": \"ExitRates\",\n      \"properties\": {\n        \"dtype\": \"number\",\n        \"std\": 0.04859654055144408,\n        \"min\": 0.0,\n        \"max\": 0.2,\n        \"num_unique_values\": 4777,\n        \"samples\": [\n          0.120833333,\n          0.006857143,\n          0.008914729\n        ],\n        \"semantic_type\": \"\",\n        \"description\": \"\"\n      }\n    },\n    {\n      \"column\": \"PageValues\",\n      \"properties\": {\n        \"dtype\": \"number\",\n        \"std\": 18.56843660780723,\n        \"min\": 0.0,\n        \"max\": 361.7637419,\n        \"num_unique_values\": 2704,\n        \"samples\": [\n          54.65714872,\n          20.97239726,\n          11.65996434\n        ],\n        \"semantic_type\": \"\",\n        \"description\": \"\"\n      }\n    },\n    {\n      \"column\": \"SpecialDay\",\n      \"properties\": {\n        \"dtype\": \"number\",\n        \"std\": 0.19891727315262578,\n        \"min\": 0.0,\n        \"max\": 1.0,\n        \"num_unique_values\": 6,\n        \"samples\": [\n          0.0,\n          0.4,\n          0.6\n        ],\n        \"semantic_type\": \"\",\n        \"description\": \"\"\n      }\n    },\n    {\n      \"column\": \"Month\",\n      \"properties\": {\n        \"dtype\": \"category\",\n        \"num_unique_values\": 10,\n        \"samples\": [\n          \"Sep\",\n          \"Mar\",\n          \"Jul\"\n        ],\n        \"semantic_type\": \"\",\n        \"description\": \"\"\n      }\n    },\n    {\n      \"column\": \"OperatingSystems\",\n      \"properties\": {\n        \"dtype\": \"number\",\n        \"std\": 0,\n        \"min\": 1,\n        \"max\": 8,\n        \"num_unique_values\": 8,\n        \"samples\": [\n          2,\n          6,\n          1\n        ],\n        \"semantic_type\": \"\",\n        \"description\": \"\"\n      }\n    },\n    {\n      \"column\": \"Browser\",\n      \"properties\": {\n        \"dtype\": \"number\",\n        \"std\": 1,\n        \"min\": 1,\n        \"max\": 13,\n        \"num_unique_values\": 13,\n        \"samples\": [\n          13,\n          9,\n          1\n        ],\n        \"semantic_type\": \"\",\n        \"description\": \"\"\n      }\n    },\n    {\n      \"column\": \"Region\",\n      \"properties\": {\n        \"dtype\": \"number\",\n        \"std\": 2,\n        \"min\": 1,\n        \"max\": 9,\n        \"num_unique_values\": 9,\n        \"samples\": [\n          7,\n          9,\n          5\n        ],\n        \"semantic_type\": \"\",\n        \"description\": \"\"\n      }\n    },\n    {\n      \"column\": \"TrafficType\",\n      \"properties\": {\n        \"dtype\": \"number\",\n        \"std\": 4,\n        \"min\": 1,\n        \"max\": 20,\n        \"num_unique_values\": 20,\n        \"samples\": [\n          1,\n          16,\n          18\n        ],\n        \"semantic_type\": \"\",\n        \"description\": \"\"\n      }\n    },\n    {\n      \"column\": \"VisitorType\",\n      \"properties\": {\n        \"dtype\": \"category\",\n        \"num_unique_values\": 3,\n        \"samples\": [\n          \"Returning_Visitor\",\n          \"New_Visitor\",\n          \"Other\"\n        ],\n        \"semantic_type\": \"\",\n        \"description\": \"\"\n      }\n    },\n    {\n      \"column\": \"Weekend\",\n      \"properties\": {\n        \"dtype\": \"boolean\",\n        \"num_unique_values\": 2,\n        \"samples\": [\n          true,\n          false\n        ],\n        \"semantic_type\": \"\",\n        \"description\": \"\"\n      }\n    },\n    {\n      \"column\": \"Revenue\",\n      \"properties\": {\n        \"dtype\": \"boolean\",\n        \"num_unique_values\": 2,\n        \"samples\": [\n          true,\n          false\n        ],\n        \"semantic_type\": \"\",\n        \"description\": \"\"\n      }\n    }\n  ]\n}"
            }
          },
          "metadata": {},
          "execution_count": 1
        }
      ],
      "source": [
        "import pandas as pd\n",
        "\n",
        "df = pd.read_csv('/content/online_shoppers_intention.csv')\n",
        "df.head()"
      ]
    },
    {
      "cell_type": "code",
      "source": [
        "df.dtypes"
      ],
      "metadata": {
        "colab": {
          "base_uri": "https://localhost:8080/",
          "height": 649
        },
        "id": "UE7phqgcuWdb",
        "outputId": "b6060a16-7a7d-4172-fbdc-a2c820cfd9e0"
      },
      "execution_count": null,
      "outputs": [
        {
          "output_type": "execute_result",
          "data": {
            "text/plain": [
              "Administrative               int64\n",
              "Administrative_Duration    float64\n",
              "Informational                int64\n",
              "Informational_Duration     float64\n",
              "ProductRelated               int64\n",
              "ProductRelated_Duration    float64\n",
              "BounceRates                float64\n",
              "ExitRates                  float64\n",
              "PageValues                 float64\n",
              "SpecialDay                 float64\n",
              "Month                       object\n",
              "OperatingSystems             int64\n",
              "Browser                      int64\n",
              "Region                       int64\n",
              "TrafficType                  int64\n",
              "VisitorType                 object\n",
              "Weekend                       bool\n",
              "Revenue                       bool\n",
              "dtype: object"
            ],
            "text/html": [
              "<div>\n",
              "<style scoped>\n",
              "    .dataframe tbody tr th:only-of-type {\n",
              "        vertical-align: middle;\n",
              "    }\n",
              "\n",
              "    .dataframe tbody tr th {\n",
              "        vertical-align: top;\n",
              "    }\n",
              "\n",
              "    .dataframe thead th {\n",
              "        text-align: right;\n",
              "    }\n",
              "</style>\n",
              "<table border=\"1\" class=\"dataframe\">\n",
              "  <thead>\n",
              "    <tr style=\"text-align: right;\">\n",
              "      <th></th>\n",
              "      <th>0</th>\n",
              "    </tr>\n",
              "  </thead>\n",
              "  <tbody>\n",
              "    <tr>\n",
              "      <th>Administrative</th>\n",
              "      <td>int64</td>\n",
              "    </tr>\n",
              "    <tr>\n",
              "      <th>Administrative_Duration</th>\n",
              "      <td>float64</td>\n",
              "    </tr>\n",
              "    <tr>\n",
              "      <th>Informational</th>\n",
              "      <td>int64</td>\n",
              "    </tr>\n",
              "    <tr>\n",
              "      <th>Informational_Duration</th>\n",
              "      <td>float64</td>\n",
              "    </tr>\n",
              "    <tr>\n",
              "      <th>ProductRelated</th>\n",
              "      <td>int64</td>\n",
              "    </tr>\n",
              "    <tr>\n",
              "      <th>ProductRelated_Duration</th>\n",
              "      <td>float64</td>\n",
              "    </tr>\n",
              "    <tr>\n",
              "      <th>BounceRates</th>\n",
              "      <td>float64</td>\n",
              "    </tr>\n",
              "    <tr>\n",
              "      <th>ExitRates</th>\n",
              "      <td>float64</td>\n",
              "    </tr>\n",
              "    <tr>\n",
              "      <th>PageValues</th>\n",
              "      <td>float64</td>\n",
              "    </tr>\n",
              "    <tr>\n",
              "      <th>SpecialDay</th>\n",
              "      <td>float64</td>\n",
              "    </tr>\n",
              "    <tr>\n",
              "      <th>Month</th>\n",
              "      <td>object</td>\n",
              "    </tr>\n",
              "    <tr>\n",
              "      <th>OperatingSystems</th>\n",
              "      <td>int64</td>\n",
              "    </tr>\n",
              "    <tr>\n",
              "      <th>Browser</th>\n",
              "      <td>int64</td>\n",
              "    </tr>\n",
              "    <tr>\n",
              "      <th>Region</th>\n",
              "      <td>int64</td>\n",
              "    </tr>\n",
              "    <tr>\n",
              "      <th>TrafficType</th>\n",
              "      <td>int64</td>\n",
              "    </tr>\n",
              "    <tr>\n",
              "      <th>VisitorType</th>\n",
              "      <td>object</td>\n",
              "    </tr>\n",
              "    <tr>\n",
              "      <th>Weekend</th>\n",
              "      <td>bool</td>\n",
              "    </tr>\n",
              "    <tr>\n",
              "      <th>Revenue</th>\n",
              "      <td>bool</td>\n",
              "    </tr>\n",
              "  </tbody>\n",
              "</table>\n",
              "</div><br><label><b>dtype:</b> object</label>"
            ]
          },
          "metadata": {},
          "execution_count": 2
        }
      ]
    },
    {
      "cell_type": "code",
      "source": [
        "df.isnull().sum()"
      ],
      "metadata": {
        "colab": {
          "base_uri": "https://localhost:8080/",
          "height": 649
        },
        "id": "9TGLZsRmuZob",
        "outputId": "3634a89e-6867-4629-8d52-bf78316b745d"
      },
      "execution_count": null,
      "outputs": [
        {
          "output_type": "execute_result",
          "data": {
            "text/plain": [
              "Administrative             0\n",
              "Administrative_Duration    0\n",
              "Informational              0\n",
              "Informational_Duration     0\n",
              "ProductRelated             0\n",
              "ProductRelated_Duration    0\n",
              "BounceRates                0\n",
              "ExitRates                  0\n",
              "PageValues                 0\n",
              "SpecialDay                 0\n",
              "Month                      0\n",
              "OperatingSystems           0\n",
              "Browser                    0\n",
              "Region                     0\n",
              "TrafficType                0\n",
              "VisitorType                0\n",
              "Weekend                    0\n",
              "Revenue                    0\n",
              "dtype: int64"
            ],
            "text/html": [
              "<div>\n",
              "<style scoped>\n",
              "    .dataframe tbody tr th:only-of-type {\n",
              "        vertical-align: middle;\n",
              "    }\n",
              "\n",
              "    .dataframe tbody tr th {\n",
              "        vertical-align: top;\n",
              "    }\n",
              "\n",
              "    .dataframe thead th {\n",
              "        text-align: right;\n",
              "    }\n",
              "</style>\n",
              "<table border=\"1\" class=\"dataframe\">\n",
              "  <thead>\n",
              "    <tr style=\"text-align: right;\">\n",
              "      <th></th>\n",
              "      <th>0</th>\n",
              "    </tr>\n",
              "  </thead>\n",
              "  <tbody>\n",
              "    <tr>\n",
              "      <th>Administrative</th>\n",
              "      <td>0</td>\n",
              "    </tr>\n",
              "    <tr>\n",
              "      <th>Administrative_Duration</th>\n",
              "      <td>0</td>\n",
              "    </tr>\n",
              "    <tr>\n",
              "      <th>Informational</th>\n",
              "      <td>0</td>\n",
              "    </tr>\n",
              "    <tr>\n",
              "      <th>Informational_Duration</th>\n",
              "      <td>0</td>\n",
              "    </tr>\n",
              "    <tr>\n",
              "      <th>ProductRelated</th>\n",
              "      <td>0</td>\n",
              "    </tr>\n",
              "    <tr>\n",
              "      <th>ProductRelated_Duration</th>\n",
              "      <td>0</td>\n",
              "    </tr>\n",
              "    <tr>\n",
              "      <th>BounceRates</th>\n",
              "      <td>0</td>\n",
              "    </tr>\n",
              "    <tr>\n",
              "      <th>ExitRates</th>\n",
              "      <td>0</td>\n",
              "    </tr>\n",
              "    <tr>\n",
              "      <th>PageValues</th>\n",
              "      <td>0</td>\n",
              "    </tr>\n",
              "    <tr>\n",
              "      <th>SpecialDay</th>\n",
              "      <td>0</td>\n",
              "    </tr>\n",
              "    <tr>\n",
              "      <th>Month</th>\n",
              "      <td>0</td>\n",
              "    </tr>\n",
              "    <tr>\n",
              "      <th>OperatingSystems</th>\n",
              "      <td>0</td>\n",
              "    </tr>\n",
              "    <tr>\n",
              "      <th>Browser</th>\n",
              "      <td>0</td>\n",
              "    </tr>\n",
              "    <tr>\n",
              "      <th>Region</th>\n",
              "      <td>0</td>\n",
              "    </tr>\n",
              "    <tr>\n",
              "      <th>TrafficType</th>\n",
              "      <td>0</td>\n",
              "    </tr>\n",
              "    <tr>\n",
              "      <th>VisitorType</th>\n",
              "      <td>0</td>\n",
              "    </tr>\n",
              "    <tr>\n",
              "      <th>Weekend</th>\n",
              "      <td>0</td>\n",
              "    </tr>\n",
              "    <tr>\n",
              "      <th>Revenue</th>\n",
              "      <td>0</td>\n",
              "    </tr>\n",
              "  </tbody>\n",
              "</table>\n",
              "</div><br><label><b>dtype:</b> int64</label>"
            ]
          },
          "metadata": {},
          "execution_count": 3
        }
      ]
    },
    {
      "cell_type": "code",
      "source": [
        "df['Revenue'].value_counts(normalize=True).plot(kind='bar', title='Distribusi Label Revenue')"
      ],
      "metadata": {
        "colab": {
          "base_uri": "https://localhost:8080/",
          "height": 510
        },
        "id": "zvohBHElucHu",
        "outputId": "d9436a5d-87e9-4e2b-9229-53c856d6409a"
      },
      "execution_count": null,
      "outputs": [
        {
          "output_type": "execute_result",
          "data": {
            "text/plain": [
              "<Axes: title={'center': 'Distribusi Label Revenue'}, xlabel='Revenue'>"
            ]
          },
          "metadata": {},
          "execution_count": 5
        },
        {
          "output_type": "display_data",
          "data": {
            "text/plain": [
              "<Figure size 640x480 with 1 Axes>"
            ],
            "image/png": "[encoded data removed]"
          },
          "metadata": {}
        }
      ]
    },
    {
      "cell_type": "markdown",
      "source": [
        "# Pre-processing"
      ],
      "metadata": {
        "id": "i9QdeBI7urND"
      }
    },
    {
      "cell_type": "code",
      "source": [
        "# One-hot encoding\n",
        "df_encoded = pd.get_dummies(df, columns=['Month', 'VisitorType'], drop_first=False)\n",
        "\n",
        "# Label encoding\n",
        "df_encoded['Weekend'] = df_encoded['Weekend'].astype(int)\n",
        "df_encoded['Revenue'] = df_encoded['Revenue'].astype(int)\n",
        "\n",
        "print(df_encoded.head())"
      ],
      "metadata": {
        "colab": {
          "base_uri": "https://localhost:8080/"
        },
        "id": "PuEF9UQZupg9",
        "outputId": "f4df6a0f-d105-49cc-de46-b0d9fa206d9d"
      },
      "execution_count": null,
      "outputs": [
        {
          "output_type": "stream",
          "name": "stdout",
          "text": [
            "   Administrative  Administrative_Duration  Informational  \\\n",
            "0               0                      0.0              0   \n",
            "1               0                      0.0              0   \n",
            "2               0                      0.0              0   \n",
            "3               0                      0.0              0   \n",
            "4               0                      0.0              0   \n",
            "\n",
            "   Informational_Duration  ProductRelated  ProductRelated_Duration  \\\n",
            "0                     0.0               1                 0.000000   \n",
            "1                     0.0               2                64.000000   \n",
            "2                     0.0               1                 0.000000   \n",
            "3                     0.0               2                 2.666667   \n",
            "4                     0.0              10               627.500000   \n",
            "\n",
            "   BounceRates  ExitRates  PageValues  SpecialDay  ...  Month_Jul  Month_June  \\\n",
            "0         0.20       0.20         0.0         0.0  ...      False       False   \n",
            "1         0.00       0.10         0.0         0.0  ...      False       False   \n",
            "2         0.20       0.20         0.0         0.0  ...      False       False   \n",
            "3         0.05       0.14         0.0         0.0  ...      False       False   \n",
            "4         0.02       0.05         0.0         0.0  ...      False       False   \n",
            "\n",
            "   Month_Mar  Month_May  Month_Nov  Month_Oct  Month_Sep  \\\n",
            "0      False      False      False      False      False   \n",
            "1      False      False      False      False      False   \n",
            "2      False      False      False      False      False   \n",
            "3      False      False      False      False      False   \n",
            "4      False      False      False      False      False   \n",
            "\n",
            "   VisitorType_New_Visitor  VisitorType_Other  VisitorType_Returning_Visitor  \n",
            "0                    False              False                           True  \n",
            "1                    False              False                           True  \n",
            "2                    False              False                           True  \n",
            "3                    False              False                           True  \n",
            "4                    False              False                           True  \n",
            "\n",
            "[5 rows x 29 columns]\n"
          ]
        }
      ]
    },
    {
      "cell_type": "code",
      "source": [
        "from sklearn.feature_selection import SelectKBest, chi2\n",
        "\n",
        "X_chi2 = df_encoded.drop('Revenue', axis=1)\n",
        "y_chi2 = df_encoded['Revenue']\n",
        "\n",
        "selector = SelectKBest(score_func=chi2, k=20)\n",
        "X_selected = selector.fit_transform(X_chi2, y_chi2)\n",
        "\n",
        "selected_features = X_chi2.columns[selector.get_support()]\n",
        "\n",
        "print(\"Fitur terpilih (Chi-square):\", selected_features.tolist())"
      ],
      "metadata": {
        "colab": {
          "base_uri": "https://localhost:8080/"
        },
        "id": "gCxCnetbuueV",
        "outputId": "fa12c79e-b4e9-4ded-9f9e-555e33c2a3ea"
      },
      "execution_count": null,
      "outputs": [
        {
          "output_type": "stream",
          "name": "stdout",
          "text": [
            "Fitur terpilih (Chi-square): ['Administrative', 'Administrative_Duration', 'Informational', 'Informational_Duration', 'ProductRelated', 'ProductRelated_Duration', 'BounceRates', 'ExitRates', 'PageValues', 'SpecialDay', 'Browser', 'Weekend', 'Month_Dec', 'Month_Feb', 'Month_Mar', 'Month_May', 'Month_Nov', 'Month_Oct', 'VisitorType_New_Visitor', 'VisitorType_Returning_Visitor']\n"
          ]
        }
      ]
    },
    {
      "cell_type": "code",
      "source": [
        "from sklearn.preprocessing import StandardScaler\n",
        "\n",
        "X_selected_df = df_encoded[selected_features]\n",
        "\n",
        "scaler = StandardScaler()\n",
        "X_scaled_selected = scaler.fit_transform(X_selected_df)\n",
        "\n",
        "X_scaled_df = pd.DataFrame(X_scaled_selected, columns=selected_features)\n",
        "\n",
        "print(X_scaled_df.head())"
      ],
      "metadata": {
        "colab": {
          "base_uri": "https://localhost:8080/"
        },
        "id": "qFW6ETmBuwVV",
        "outputId": "69cbaba0-d159-4055-b9fb-e239ec5430c6"
      },
      "execution_count": null,
      "outputs": [
        {
          "output_type": "stream",
          "name": "stdout",
          "text": [
            "   Administrative  Administrative_Duration  Informational  \\\n",
            "0       -0.696993                -0.457191      -0.396478   \n",
            "1       -0.696993                -0.457191      -0.396478   \n",
            "2       -0.696993                -0.457191      -0.396478   \n",
            "3       -0.696993                -0.457191      -0.396478   \n",
            "4       -0.696993                -0.457191      -0.396478   \n",
            "\n",
            "   Informational_Duration  ProductRelated  ProductRelated_Duration  \\\n",
            "0               -0.244931       -0.691003                -0.624348   \n",
            "1               -0.244931       -0.668518                -0.590903   \n",
            "2               -0.244931       -0.691003                -0.624348   \n",
            "3               -0.244931       -0.668518                -0.622954   \n",
            "4               -0.244931       -0.488636                -0.296430   \n",
            "\n",
            "   BounceRates  ExitRates  PageValues  SpecialDay   Browser   Weekend  \\\n",
            "0     3.667189   3.229316   -0.317178   -0.308821 -0.790293 -0.550552   \n",
            "1    -0.457683   1.171473   -0.317178   -0.308821 -0.207952 -0.550552   \n",
            "2     3.667189   3.229316   -0.317178   -0.308821 -0.790293 -0.550552   \n",
            "3     0.573535   1.994610   -0.317178   -0.308821 -0.207952 -0.550552   \n",
            "4    -0.045196   0.142551   -0.317178   -0.308821  0.374389  1.816360   \n",
            "\n",
            "   Month_Dec  Month_Feb  Month_Mar  Month_May  Month_Nov  Month_Oct  \\\n",
            "0  -0.403582   8.124707  -0.427739  -0.612532  -0.566798  -0.215871   \n",
            "1  -0.403582   8.124707  -0.427739  -0.612532  -0.566798  -0.215871   \n",
            "2  -0.403582   8.124707  -0.427739  -0.612532  -0.566798  -0.215871   \n",
            "3  -0.403582   8.124707  -0.427739  -0.612532  -0.566798  -0.215871   \n",
            "4  -0.403582   8.124707  -0.427739  -0.612532  -0.566798  -0.215871   \n",
            "\n",
            "   VisitorType_New_Visitor  VisitorType_Returning_Visitor  \n",
            "0                -0.399087                       0.410621  \n",
            "1                -0.399087                       0.410621  \n",
            "2                -0.399087                       0.410621  \n",
            "3                -0.399087                       0.410621  \n",
            "4                -0.399087                       0.410621  \n"
          ]
        }
      ]
    },
    {
      "cell_type": "code",
      "source": [
        "from sklearn.model_selection import train_test_split\n",
        "\n",
        "X_train, X_test, y_train, y_test = train_test_split(X_scaled_df, y_chi2, test_size=0.3, random_state=42, stratify=y_chi2)"
      ],
      "metadata": {
        "id": "5-Kp2VmGuyIU"
      },
      "execution_count": null,
      "outputs": []
    },
    {
      "cell_type": "code",
      "source": [
        "from imblearn.over_sampling import SMOTE\n",
        "from collections import Counter\n",
        "\n",
        "smote = SMOTE(random_state=42)\n",
        "X_train_balanced, y_train_balanced = smote.fit_resample(X_train, y_train)\n",
        "\n",
        "print(\"Distribusi sebelum SMOTE:\", Counter(y_train))\n",
        "print(\"Distribusi sesudah SMOTE:\", Counter(y_train_balanced))"
      ],
      "metadata": {
        "colab": {
          "base_uri": "https://localhost:8080/"
        },
        "id": "kbpfU83Tu0mD",
        "outputId": "16ea02c5-abec-4ca7-a286-0c7a899aec31"
      },
      "execution_count": null,
      "outputs": [
        {
          "output_type": "stream",
          "name": "stdout",
          "text": [
            "Distribusi sebelum SMOTE: Counter({0: 7295, 1: 1336})\n",
            "Distribusi sesudah SMOTE: Counter({0: 7295, 1: 7295})\n"
          ]
        }
      ]
    },
    {
      "cell_type": "markdown",
      "source": [
        "# SVM Manual"
      ],
      "metadata": {
        "id": "YvmMxOQ5u33g"
      }
    },
    {
      "cell_type": "code",
      "source": [
        "import numpy as np\n",
        "\n",
        "X_manual = np.array(X_train_balanced)\n",
        "y_manual = y_train_balanced.replace(0, -1).values  # ubah 0 jadi -1\n",
        "\n",
        "X_manual = X_manual.astype(float)"
      ],
      "metadata": {
        "id": "27wXFq5cu5va"
      },
      "execution_count": null,
      "outputs": []
    },
    {
      "cell_type": "code",
      "source": [
        "# Inisialisasi\n",
        "w = np.zeros(X_manual.shape[1])\n",
        "b = 0\n",
        "lr = 0.01\n",
        "epochs = 1000\n",
        "lambda_param = 0.1"
      ],
      "metadata": {
        "id": "NVRjIHL5u71Y"
      },
      "execution_count": null,
      "outputs": []
    },
    {
      "cell_type": "code",
      "source": [
        "def fungsi_margin(w, b, X, y):\n",
        "    hasil = np.dot(X, w)\n",
        "    hasil = hasil + b\n",
        "    hasil = y * hasil\n",
        "    return hasil"
      ],
      "metadata": {
        "id": "f_KCWTa7x_sI"
      },
      "execution_count": null,
      "outputs": []
    },
    {
      "cell_type": "code",
      "source": [
        "def fungsi_loss(w, b, X, y, lambda_param):\n",
        "    margin = fungsi_margin(w, b, X, y)\n",
        "\n",
        "    hasil_maximum = []\n",
        "    for m in margin:\n",
        "        if 1 - m > 0:\n",
        "            hasil_maximum.append(1 - m)\n",
        "        else:\n",
        "            hasil_maximum.append(0)\n",
        "\n",
        "    rata_rata = sum(hasil_maximum) / len(hasil_maximum)\n",
        "\n",
        "    hasil_dot = 0\n",
        "    for i in range(len(w)):\n",
        "        hasil_dot = hasil_dot + w[i] * w[i]\n",
        "\n",
        "    regulasi = 0.5 * lambda_param * hasil_dot\n",
        "\n",
        "    loss = rata_rata + regulasi\n",
        "\n",
        "    return loss"
      ],
      "metadata": {
        "id": "Zc7D1DmiyMgs"
      },
      "execution_count": null,
      "outputs": []
    },
    {
      "cell_type": "code",
      "source": [
        "def gradient_descent_batch(X, y, lr=0.01, lambda_param=0.1, epochs=1000):\n",
        "    n_samples, n_features = X.shape\n",
        "    w = np.zeros(n_features)\n",
        "    b = 0\n",
        "\n",
        "    for epoch in range(epochs):\n",
        "        margin = fungsi_margin(w, b, X, y)\n",
        "        condition = margin < 1\n",
        "\n",
        "        # Gradient (vectorized)\n",
        "        dw = -np.dot(X[condition].T, y[condition]) / n_samples + lambda_param * w\n",
        "        db = -np.sum(y[condition]) / n_samples\n",
        "\n",
        "        # Update\n",
        "        w -= lr * dw\n",
        "        b -= lr * db\n",
        "\n",
        "        if epoch % 100 == 0 or epoch == epochs - 1:\n",
        "            loss = fungsi_loss(w, b, X, y, lambda_param)\n",
        "            print(f\"Epoch {epoch}, Loss: {loss}\")\n",
        "\n",
        "    return w, b\n",
        "\n",
        "# y_manual = -1 dan +1\n",
        "w_akhir, b_akhir = gradient_descent_batch(X_manual, y_manual, lr=0.01, lambda_param=0.1, epochs=1000)\n",
        "print(\"Bobot akhir:\", w_akhir)\n",
        "print(\"Bias akhir:\", b_akhir)"
      ],
      "metadata": {
        "colab": {
          "base_uri": "https://localhost:8080/"
        },
        "id": "YiU1-n_ou9na",
        "outputId": "129889bc-e8ae-4ddc-c537-f08ee728c23d"
      },
      "execution_count": null,
      "outputs": [
        {
          "output_type": "stream",
          "name": "stdout",
          "text": [
            "Epoch 0, Loss: 0.9914096529299562\n",
            "Epoch 100, Loss: 0.6417020401346266\n",
            "Epoch 200, Loss: 0.5951293893389963\n",
            "Epoch 300, Loss: 0.5705890943206524\n",
            "Epoch 400, Loss: 0.5569784852015545\n",
            "Epoch 500, Loss: 0.5492751203887236\n",
            "Epoch 600, Loss: 0.5447721267030559\n",
            "Epoch 700, Loss: 0.5421426483652081\n",
            "Epoch 800, Loss: 0.5405681781261987\n",
            "Epoch 900, Loss: 0.539612077422186\n",
            "Epoch 999, Loss: 0.5390168069153874\n",
            "Bobot akhir: [ 0.07486778  0.01769238  0.04137845 -0.00713015  0.1377667   0.125827\n",
            " -0.06027697 -0.17731655  1.03176792 -0.04372643  0.01677535  0.01654638\n",
            " -0.0745722  -0.03324707 -0.0679876  -0.09264989  0.19200319 -0.00124531\n",
            "  0.01424172  0.00304189]\n",
            "Bias akhir: -0.44274571624400333\n"
          ]
        }
      ]
    },
    {
      "cell_type": "code",
      "source": [
        "# Konversi y_test ke -1/+1\n",
        "y_test_manual = y_test.replace(0, -1).values\n",
        "X_test_manual = X_test.astype(float)\n",
        "\n",
        "# Prediksi\n",
        "y_pred_test = np.dot(X_test_manual, w_akhir) + b_akhir\n",
        "y_pred_label = np.where(y_pred_test >= 0, 1, -1)"
      ],
      "metadata": {
        "id": "FSEwlfhcvC0K"
      },
      "execution_count": null,
      "outputs": []
    },
    {
      "cell_type": "code",
      "source": [
        "from sklearn.metrics import accuracy_score, classification_report\n",
        "\n",
        "# Konversi label ke 0/1 lagi\n",
        "y_pred_final = np.where(y_pred_label == -1, 0, 1)\n",
        "y_true_final = np.where(y_test_manual == -1, 0, 1)\n",
        "\n",
        "print(\"Akurasi:\", accuracy_score(y_true_final, y_pred_final))\n",
        "print(classification_report(y_true_final, y_pred_final))"
      ],
      "metadata": {
        "colab": {
          "base_uri": "https://localhost:8080/"
        },
        "id": "arDXNYL0vDgk",
        "outputId": "c8a7913f-4ef1-4ea6-d97c-7b24f3d2bcfd"
      },
      "execution_count": null,
      "outputs": [
        {
          "output_type": "stream",
          "name": "stdout",
          "text": [
            "Akurasi: 0.8610435252771019\n",
            "              precision    recall  f1-score   support\n",
            "\n",
            "           0       0.94      0.89      0.92      3127\n",
            "           1       0.54      0.72      0.61       572\n",
            "\n",
            "    accuracy                           0.86      3699\n",
            "   macro avg       0.74      0.80      0.76      3699\n",
            "weighted avg       0.88      0.86      0.87      3699\n",
            "\n"
          ]
        }
      ]
    },
    {
      "cell_type": "code",
      "source": [
        "import matplotlib.pyplot as plt\n",
        "import seaborn as sns\n",
        "from sklearn.metrics import confusion_matrix\n",
        "\n",
        "y_pred = np.sign(np.dot(X_manual, w_akhir) + b_akhir)\n",
        "cm = confusion_matrix(y_manual, y_pred)\n",
        "\n",
        "sns.heatmap(cm, annot=True, fmt='d', cmap='Blues')\n",
        "plt.xlabel('Predicted')\n",
        "plt.ylabel('Actual')\n",
        "plt.title('Confusion Matrix')\n",
        "plt.show()"
      ],
      "metadata": {
        "colab": {
          "base_uri": "https://localhost:8080/",
          "height": 472
        },
        "id": "PeJNCw0fvEvu",
        "outputId": "144c3101-009e-4b30-9f10-c6bdb58fdc06"
      },
      "execution_count": null,
      "outputs": [
        {
          "output_type": "display_data",
          "data": {
            "text/plain": [
              "<Figure size 640x480 with 2 Axes>"
            ],
            "image/png": "[encoded data removed]"
          },
          "metadata": {}
        }
      ]
    },
    {
      "cell_type": "code",
      "source": [
        "import joblib\n",
        "\n",
        "joblib.dump({\n",
        "    'weights': w_akhir,\n",
        "    'bias': b_akhir,\n",
        "    'scaler': scaler,\n",
        "    'features': selected_features\n",
        "}, 'svm_manual_model.pkl')\n",
        "\n",
        "print(\"Model disimpan\")"
      ],
      "metadata": {
        "colab": {
          "base_uri": "https://localhost:8080/"
        },
        "id": "Ql-KcPePvGf9",
        "outputId": "13b906a3-ea6d-46ec-e13a-9bf4b58cb74d"
      },
      "execution_count": null,
      "outputs": [
        {
          "output_type": "stream",
          "name": "stdout",
          "text": [
            "Model disimpan\n"
          ]
        }
      ]
    },
    {
      "cell_type": "code",
      "source": [
        "model = joblib.load(\"svm_manual_model.pkl\")\n",
        "\n",
        "w_akhir = model['weights']\n",
        "b_akhir = model['bias']\n",
        "scaler = model['scaler']\n",
        "selected_features = model['features']\n",
        "\n",
        "def ambil_input():\n",
        "    print(\"Masukkan data pengunjung (input sesuai instruksi):\")\n",
        "    data_user = {\n",
        "        'Administrative': int(input(\"Administrative: \")),\n",
        "        'Administrative_Duration': float(input(\"Administrative_Duration: \")),\n",
        "        'Informational': int(input(\"Informational: \")),\n",
        "        'Informational_Duration': float(input(\"Informational_Duration: \")),\n",
        "        'ProductRelated': int(input(\"ProductRelated: \")),\n",
        "        'ProductRelated_Duration': float(input(\"ProductRelated_Duration: \")),\n",
        "        'BounceRates': float(input(\"BounceRates (0–1): \")),\n",
        "        'ExitRates': float(input(\"ExitRates (0–1): \")),\n",
        "        'PageValues': float(input(\"PageValues: \")),\n",
        "        'SpecialDay': float(input(\"SpecialDay (0 atau 0.2–1.0): \")),\n",
        "        'Browser': int(input(\"Browser: \")),\n",
        "        'Weekend': input(\"Weekend? (yes/no): \").strip().lower() == \"yes\",\n",
        "        'Month': input(\"Month (Dec, Feb, Mar, May, Nov, Oct): \"),\n",
        "        'VisitorType': input(\"VisitorType (New_Visitor / Returning_Visitor): \")\n",
        "    }\n",
        "    return data_user\n",
        "\n",
        "def proses_input(dict_userinput):\n",
        "    df = pd.DataFrame([dict_userinput])\n",
        "\n",
        "    df['Weekend'] = int(df['Weekend'].iloc[0])\n",
        "\n",
        "    for m in ['Dec', 'Feb', 'Mar', 'May', 'Nov', 'Oct']:\n",
        "        df[f'Month_{m}'] = 1 if df['Month'].iloc[0] == m else 0\n",
        "\n",
        "    df['VisitorType_New_Visitor'] = 1 if df['VisitorType'].iloc[0] == 'New_Visitor' else 0\n",
        "    df['VisitorType_Returning_Visitor'] = 1 if df['VisitorType'].iloc[0] == 'Returning_Visitor' else 0\n",
        "\n",
        "    df = df.drop(columns=['Month', 'VisitorType'])\n",
        "\n",
        "    for col in selected_features:\n",
        "        if col not in df:\n",
        "            df[col] = 0\n",
        "\n",
        "    df = df[selected_features]\n",
        "\n",
        "    scaled_input = scaler.transform(df)\n",
        "\n",
        "    return scaled_input\n",
        "\n",
        "def prediksi_svm(dict_userinput):\n",
        "    x_input = proses_input(dict_userinput)\n",
        "    hasil_pred = np.dot(x_input, w_akhir) + b_akhir\n",
        "    return int(hasil_pred >= 0)\n",
        "\n",
        "if __name__ == \"__main__\":\n",
        "    input_user = ambil_input()\n",
        "    hasil = prediksi_svm(input_user)\n",
        "    print(\"\\nHasil Prediksi:\", \"Membeli\" if hasil == 1 else \"Tidak Membeli\")"
      ],
      "metadata": {
        "colab": {
          "base_uri": "https://localhost:8080/"
        },
        "id": "mrkFv1FSvIRX",
        "outputId": "c4c77c13-4fb5-4927-d9cb-3272641609fd"
      },
      "execution_count": null,
      "outputs": [
        {
          "output_type": "stream",
          "name": "stdout",
          "text": [
            "Masukkan data pengunjung (input sesuai instruksi):\n",
            "Administrative: 0\n",
            "Administrative_Duration: 0\n",
            "Informational: 0\n",
            "Informational_Duration: 0\n",
            "ProductRelated: 1\n",
            "ProductRelated_Duration: 0\n",
            "BounceRates (0–1): 0.2\n",
            "ExitRates (0–1): 0.2\n",
            "PageValues: 0\n",
            "SpecialDay (0 atau 0.2–1.0): 0\n",
            "Browser: 1\n",
            "Weekend? (yes/no): no\n",
            "Month (Dec, Feb, Mar, May, Nov, Oct): Feb\n",
            "VisitorType (New_Visitor / Returning_Visitor): Returning_Visitor\n",
            "\n",
            "Hasil Prediksi: Tidak Membeli\n"
          ]
        },
        {
          "output_type": "stream",
          "name": "stderr",
          "text": [
            "<ipython-input-26-69194381953a>:54: DeprecationWarning: Conversion of an array with ndim > 0 to a scalar is deprecated, and will error in future. Ensure you extract a single element from your array before performing this operation. (Deprecated NumPy 1.25.)\n",
            "  return int(hasil_pred >= 0)\n"
          ]
        }
      ]
    },
    {
      "cell_type": "code",
      "source": [
        "model = joblib.load(\"svm_manual_model.pkl\")\n",
        "\n",
        "w_akhir = model['weights']\n",
        "b_akhir = model['bias']\n",
        "scaler = model['scaler']\n",
        "selected_features = model['features']\n",
        "\n",
        "def ambil_input():\n",
        "    print(\"Masukkan data pengunjung (input sesuai instruksi):\")\n",
        "    data_user = {\n",
        "        'Administrative': int(input(\"Administrative: \")),\n",
        "        'Administrative_Duration': float(input(\"Administrative_Duration: \")),\n",
        "        'Informational': int(input(\"Informational: \")),\n",
        "        'Informational_Duration': float(input(\"Informational_Duration: \")),\n",
        "        'ProductRelated': int(input(\"ProductRelated: \")),\n",
        "        'ProductRelated_Duration': float(input(\"ProductRelated_Duration: \")),\n",
        "        'BounceRates': float(input(\"BounceRates (0–1): \")),\n",
        "        'ExitRates': float(input(\"ExitRates (0–1): \")),\n",
        "        'PageValues': float(input(\"PageValues: \")),\n",
        "        'SpecialDay': float(input(\"SpecialDay (0 atau 0.2–1.0): \")),\n",
        "        'Browser': int(input(\"Browser: \")),\n",
        "        'Weekend': input(\"Weekend? (yes/no): \").strip().lower() == \"yes\",\n",
        "        'Month': input(\"Month (Dec, Feb, Mar, May, Nov, Oct): \"),\n",
        "        'VisitorType': input(\"VisitorType (New_Visitor / Returning_Visitor): \")\n",
        "    }\n",
        "    return data_user\n",
        "\n",
        "def proses_input(dict_userinput):\n",
        "    df = pd.DataFrame([dict_userinput])\n",
        "\n",
        "    df['Weekend'] = int(df['Weekend'].iloc[0])\n",
        "\n",
        "    for m in ['Dec', 'Feb', 'Mar', 'May', 'Nov', 'Oct']:\n",
        "        df[f'Month_{m}'] = 1 if df['Month'].iloc[0] == m else 0\n",
        "\n",
        "    df['VisitorType_New_Visitor'] = 1 if df['VisitorType'].iloc[0] == 'New_Visitor' else 0\n",
        "    df['VisitorType_Returning_Visitor'] = 1 if df['VisitorType'].iloc[0] == 'Returning_Visitor' else 0\n",
        "\n",
        "    df = df.drop(columns=['Month', 'VisitorType'])\n",
        "\n",
        "    for col in selected_features:\n",
        "        if col not in df:\n",
        "            df[col] = 0\n",
        "\n",
        "    df = df[selected_features]\n",
        "\n",
        "    scaled_input = scaler.transform(df)\n",
        "\n",
        "    return scaled_input\n",
        "\n",
        "def prediksi_svm(dict_userinput):\n",
        "    x_input = proses_input(dict_userinput)\n",
        "    hasil_pred = np.dot(x_input, w_akhir) + b_akhir\n",
        "    return int(hasil_pred >= 0)\n",
        "\n",
        "if __name__ == \"__main__\":\n",
        "    input_user = ambil_input()\n",
        "    hasil = prediksi_svm(input_user)\n",
        "    print(\"\\nHasil Prediksi:\", \"Membeli\" if hasil == 1 else \"Tidak Membeli\")"
      ],
      "metadata": {
        "colab": {
          "base_uri": "https://localhost:8080/"
        },
        "id": "liIXuIjC65TJ",
        "outputId": "d7e688b7-9dfc-4910-bbd1-04845b96cef0"
      },
      "execution_count": null,
      "outputs": [
        {
          "output_type": "stream",
          "name": "stdout",
          "text": [
            "Masukkan data pengunjung (input sesuai instruksi):\n",
            "Administrative: 2\n",
            "Administrative_Duration: 56\n",
            "Informational: 1\n",
            "Informational_Duration: 144\n",
            "ProductRelated: 67\n",
            "ProductRelated_Duration: 2563.783\n",
            "BounceRates (0–1): 0\n",
            "ExitRates (0–1): 0.005797\n",
            "PageValues: 19.34265\n",
            "SpecialDay (0 atau 0.2–1.0): 0\n",
            "Browser: 2\n",
            "Weekend? (yes/no): no\n",
            "Month (Dec, Feb, Mar, May, Nov, Oct): Mar\n",
            "VisitorType (New_Visitor / Returning_Visitor): New_Visitor\n",
            "\n",
            "Hasil Prediksi: Membeli\n"
          ]
        },
        {
          "output_type": "stream",
          "name": "stderr",
          "text": [
            "<ipython-input-27-69194381953a>:54: DeprecationWarning: Conversion of an array with ndim > 0 to a scalar is deprecated, and will error in future. Ensure you extract a single element from your array before performing this operation. (Deprecated NumPy 1.25.)\n",
            "  return int(hasil_pred >= 0)\n"
          ]
        }
      ]
    }
  ]
}